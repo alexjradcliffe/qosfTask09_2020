{
 "cells": [
  {
   "cell_type": "markdown",
   "metadata": {},
   "source": [
    "# Task 4 — VQE"
   ]
  },
  {
   "cell_type": "code",
   "execution_count": 1,
   "metadata": {},
   "outputs": [],
   "source": [
    "import numpy as np"
   ]
  },
  {
   "cell_type": "code",
   "execution_count": 2,
   "metadata": {},
   "outputs": [],
   "source": [
    "H = np.array([[1, 0, 0, 0],\n",
    "              [0, 0, -1, 0],\n",
    "              [0, -1, 0, 0],\n",
    "              [0, 0, 0, 1]])"
   ]
  },
  {
   "cell_type": "markdown",
   "metadata": {},
   "source": [
    "To find the lowest Eigenvalue of this matrix $H$, I will start by decomposing it into a sum of Pauli terms ($II$, $XX$, $YY$ and $ZZ$).\n",
    "\n",
    "First let's define all of the one-qubit Pauli matrices:"
   ]
  },
  {
   "cell_type": "code",
   "execution_count": 3,
   "metadata": {},
   "outputs": [],
   "source": [
    "I = np.array([[1, 0],\n",
    "              [0, 1]])\n",
    "X = np.array([[0, 1],\n",
    "              [1, 0]])\n",
    "Y = np.array([[0, -1j],\n",
    "              [1j, 0]])\n",
    "Z = np.array([[1, 0],\n",
    "              [0, -1]])"
   ]
  },
  {
   "cell_type": "markdown",
   "metadata": {},
   "source": [
    "And $H$ can be decomposed into a sum of $II$, $XX$, $YY$, and $ZZ$, so let's define those matrices:"
   ]
  },
  {
   "cell_type": "code",
   "execution_count": 4,
   "metadata": {},
   "outputs": [],
   "source": [
    "II = np.kron(I, I)\n",
    "XX = np.kron(X, X)\n",
    "YY = np.kron(Y, Y)\n",
    "ZZ = np.kron(Z, Z)"
   ]
  },
  {
   "cell_type": "code",
   "execution_count": 5,
   "metadata": {},
   "outputs": [
    {
     "name": "stdout",
     "output_type": "stream",
     "text": [
      "[[1 0 0 0]\n",
      " [0 1 0 0]\n",
      " [0 0 1 0]\n",
      " [0 0 0 1]]\n",
      "[[0 0 0 1]\n",
      " [0 0 1 0]\n",
      " [0 1 0 0]\n",
      " [1 0 0 0]]\n",
      "[[ 0.+0.j  0.-0.j  0.-0.j -1.+0.j]\n",
      " [ 0.+0.j  0.+0.j  1.-0.j  0.-0.j]\n",
      " [ 0.+0.j  1.-0.j  0.+0.j  0.-0.j]\n",
      " [-1.+0.j  0.+0.j  0.+0.j  0.+0.j]]\n",
      "[[ 1  0  0  0]\n",
      " [ 0 -1  0  0]\n",
      " [ 0  0 -1  0]\n",
      " [ 0  0  0  1]]\n"
     ]
    }
   ],
   "source": [
    "print(II)\n",
    "print(XX)\n",
    "print(YY)\n",
    "print(ZZ)"
   ]
  },
  {
   "cell_type": "markdown",
   "metadata": {},
   "source": [
    "We can hence see that the span of these matrices is given by:\n",
    "\n",
    "$\\text{span}(II, XX, YY, ZZ) = \\left\\{\n",
    "\\begin{pmatrix}\n",
    "a & 0 & 0 & d\\\\\n",
    "0 & b & c & 0\\\\\n",
    "0 & c & b & 0\\\\\n",
    "d & 0 & 0 & a\\\\\n",
    "\\end{pmatrix}\n",
    "\\, \\middle| \\, a, b, c, d \\in \\mathbb{C}\\right\\}$\n",
    "\n",
    "$\\begin{pmatrix}\n",
    "a & 0 & 0 & d\\\\\n",
    "0 & b & c & 0\\\\\n",
    "0 & c & b & 0\\\\\n",
    "d & 0 & 0 & a\\\\\n",
    "\\end{pmatrix}= \\frac{a}{2}(II + ZZ) + \\frac{b}{2}(II - ZZ) + \\frac{c}{2}(XX + YY) + \\frac{d}{2}(XX - YY)$\n",
    "\n",
    "$= \\frac{1}{2} ((a + b)II + (c + d) XX + (c - d) YY + (a - b) ZZ)$\n",
    "\n",
    "and so we can decompose $H$ this way, as it is of this form.\n",
    "\n",
    "Let's define a function to do just that:"
   ]
  },
  {
   "cell_type": "code",
   "execution_count": 6,
   "metadata": {},
   "outputs": [
    {
     "name": "stdout",
     "output_type": "stream",
     "text": [
      "0.5 -0.5 -0.5 0.5\n"
     ]
    }
   ],
   "source": [
    "def decompose(matrix):\n",
    "    \"\"\"\n",
    "    Takes a 4x4 matrix (represented as a numpy array), and tries to\n",
    "    decompose it into a sum of II, XX, YY, ZZ. Returns a tuple\n",
    "    (w, x, y, z) such that w II + x XX + y YY + z ZZ is the matrix.\n",
    "    If such a decomposition is not possible, it will raise an\n",
    "    AssertionError.\n",
    "    \"\"\"\n",
    "    a = matrix[0, 0]\n",
    "    b = matrix[1, 1]\n",
    "    c = matrix[2, 1]\n",
    "    d = matrix[3, 0]\n",
    "    w = (a + b) / 2\n",
    "    x = (c + d) / 2\n",
    "    y = (c - d) / 2\n",
    "    z = (a - b) / 2\n",
    "    assert(np.all(w * II + x * XX + y * YY + z * ZZ == matrix))\n",
    "    return (w, x, y, z)\n",
    "\n",
    "w, x, y, z = decompose(H)\n",
    "print(w, x, y, z)"
   ]
  },
  {
   "cell_type": "markdown",
   "metadata": {},
   "source": [
    "Hence we can rewrite H as\n",
    "\n",
    "$H = \\frac{1}{2}(II - XX - YY + ZZ)$\n",
    "\n",
    "which checks out as\n",
    "\n",
    "$\\frac{1}{2}(II - XX - YY + ZZ) = \\frac{1}{2}\\left(\n",
    "\\begin{pmatrix}\n",
    "1 & 0 & 0 & 0\\\\\n",
    "0 & 1 & 0 & 0\\\\\n",
    "0 & 0 & 1 & 0\\\\\n",
    "0 & 0 & 0 & 1\\\\\n",
    "\\end{pmatrix} - \\begin{pmatrix}\n",
    "0 & 0 & 0 & 1\\\\\n",
    "0 & 0 & 1 & 0\\\\\n",
    "0 & 1 & 0 & 0\\\\\n",
    "1 & 0 & 0 & 0\\\\\n",
    "\\end{pmatrix} - \\begin{pmatrix}\n",
    "0 & 0 & 0 & -1\\\\\n",
    "0 & 0 & 1 & 0\\\\\n",
    "0 & 1 & 0 & 0\\\\\n",
    "-1 & 0 & 0 & 0\\\\\n",
    "\\end{pmatrix} + \\begin{pmatrix}\n",
    "1 & 0 & 0 & 0\\\\\n",
    "0 & -1 & 0 & 0\\\\\n",
    "0 & 0 & -1 & 0\\\\\n",
    "0 & 0 & 0 & 1\\\\\n",
    "\\end{pmatrix}\\right)\n",
    "$\n",
    "\n",
    "$=\\begin{pmatrix}\n",
    "1 & 0 & 0 & 0\\\\\n",
    "0 & 0 & -1 & 0\\\\\n",
    "0 & -1 & 0 & 0\\\\\n",
    "0 & 0 & 0 & 1\\\\\n",
    "\\end{pmatrix}$\n",
    "\n",
    "$=H$"
   ]
  },
  {
   "cell_type": "markdown",
   "metadata": {},
   "source": [
    "Now we can implement this circuit in Qiskit:"
   ]
  },
  {
   "cell_type": "code",
   "execution_count": 7,
   "metadata": {},
   "outputs": [],
   "source": [
    "from qiskit import QuantumCircuit, Aer, execute"
   ]
  },
  {
   "cell_type": "markdown",
   "metadata": {},
   "source": [
    "First let's write a function to create a state to represent our ansatz.\n",
    "\n",
    "For our ansatz we are going to use $\\left\\vert\\psi\\right\\rangle = (R_X(\\theta)\\otimes I)(CX_{01})(H\\otimes I) \\left\\vert00\\right\\rangle$, where $R_X(\\theta)$ is a X-rotation gate paramaterized by an angle $\\theta$, and $CX_{01}$ is a controlled-not gate controlled on qubit-0 acting on qubit-1, and so the only parameter in our ansatz is $\\theta$.\n",
    "\n",
    "This circuit looks like:\n",
    "```\n",
    "     ┌───┐     ┌───────────┐\n",
    "|0>: ┤ H ├──■──┤ RX(theta) ├\n",
    "     └───┘┌─┴─┐└───────────┘\n",
    "|0>: ─────┤ X ├─────────────\n",
    "          └───┘          \n",
    "```"
   ]
  },
  {
   "cell_type": "code",
   "execution_count": 8,
   "metadata": {},
   "outputs": [],
   "source": [
    "def prepare_ansatz_circuit(theta):\n",
    "    qc = QuantumCircuit(2)\n",
    "    qc.h(0)\n",
    "    qc.cx(0,1)\n",
    "    qc.rx(theta, 0)\n",
    "    return qc"
   ]
  },
  {
   "cell_type": "markdown",
   "metadata": {},
   "source": [
    "We can then write a function to measure a circuit to apply the two-qubit Pauli measurements $XX$, $YY$, or $ZZ$ to a given circuit:"
   ]
  },
  {
   "cell_type": "code",
   "execution_count": 9,
   "metadata": {},
   "outputs": [],
   "source": [
    "def measure_circuit(operator, qc):\n",
    "    qc = qc.copy()\n",
    "    assert(operator in [\"XX\", \"YY\", \"ZZ\"])\n",
    "    if operator == \"XX\":\n",
    "        qc.h([0, 1])\n",
    "    elif operator == \"YY\":\n",
    "        qc.sdg([0, 1])\n",
    "        qc.h([0, 1])\n",
    "    qc.measure_all()\n",
    "    return qc"
   ]
  },
  {
   "cell_type": "markdown",
   "metadata": {},
   "source": [
    "We can then use this to write a function to estimate the expectation of a two-qubit Pauli operator or the identity:"
   ]
  },
  {
   "cell_type": "code",
   "execution_count": 10,
   "metadata": {},
   "outputs": [],
   "source": [
    "simulator = Aer.get_backend('qasm_simulator')\n",
    "def measure_pauli_expectation(qc, operator, shots):\n",
    "    if operator == \"II\":\n",
    "        return 1\n",
    "    else:\n",
    "        measurement = measure_circuit(operator, qc)\n",
    "        result = execute(measurement, backend = simulator, shots = shots).result()\n",
    "        counts = result.get_counts(measurement)\n",
    "        positives = sum([counts[m] for m in counts if m == \"00\" or m == \"11\"])\n",
    "        return 2 * positives / shots - 1"
   ]
  },
  {
   "cell_type": "markdown",
   "metadata": {},
   "source": [
    "And we can then use this to write another function to estimate the expectation of any linear combination of these operators $H = w II + x XX + y YY + z ZZ$:"
   ]
  },
  {
   "cell_type": "code",
   "execution_count": 11,
   "metadata": {},
   "outputs": [],
   "source": [
    "def measure_energy_expectation(qc, w, x, y, z, n):\n",
    "    EII = measure_pauli_expectation(qc, \"II\", n)\n",
    "    EXX = measure_pauli_expectation(qc, \"XX\", n)\n",
    "    EYY = measure_pauli_expectation(qc, \"YY\", n)\n",
    "    EZZ = measure_pauli_expectation(qc, \"ZZ\", n)\n",
    "    return w * EII + x * EXX + y * EYY + z * EZZ"
   ]
  },
  {
   "cell_type": "markdown",
   "metadata": {},
   "source": [
    "Now we have defined all the necessary functions to hopefully find the minimum eigenvalue.\n",
    "\n",
    "Now let's try a wide variety of ansätze by trying different values of our parameter $\\theta$. We only need to try angles in the range $[0, 2\\pi)$, as an $R_X(\\theta)$ gate is periodic with order $2\\pi$."
   ]
  },
  {
   "cell_type": "code",
   "execution_count": 12,
   "metadata": {},
   "outputs": [],
   "source": [
    "thetas = np.linspace(0, 2 * np.pi, 65)"
   ]
  },
  {
   "cell_type": "markdown",
   "metadata": {},
   "source": [
    "We can then evaluate $\\left\\langle H \\right\\rangle$ for all these ansätze — by the variational principle we know that $\\left\\langle H \\right\\rangle \\geq E_{\\text{min}}$ (the minimum eigenvalue), and the minimum value of $\\left\\langle H \\right\\rangle$ should hopefully approximate the minimum eigenvalue (assuming its eigenstate is one of the ansätze — if not, we will only get an approximate upper bound on the eigenvalue)."
   ]
  },
  {
   "cell_type": "code",
   "execution_count": 13,
   "metadata": {},
   "outputs": [
    {
     "name": "stdout",
     "output_type": "stream",
     "text": [
      "The minimum eigenvalue seems to be -1.0 which comes from theta = 3.141592653589793\n"
     ]
    }
   ],
   "source": [
    "minE = 1\n",
    "for theta in thetas:\n",
    "    qc = prepare_ansatz_circuit(theta)\n",
    "    E = measure_energy_expectation(qc, w, x, y, z, 1000)\n",
    "    if E < minE:\n",
    "        minTheta = theta\n",
    "        minE = E\n",
    "print(\"The minimum eigenvalue seems to be\", minE, \"which comes from theta =\", minTheta)"
   ]
  },
  {
   "cell_type": "markdown",
   "metadata": {},
   "source": [
    "Assuming all of my code is working correctly, this should give an eigenvalue of $E_\\text{min} \\approx -1$, with $\\theta \\approx \\pi$.\n",
    "\n",
    "This state is\n",
    "\n",
    "$\\left\\vert\\psi\\right\\rangle = (R_X(\\pi)\\otimes I)(CX_{01})(H\\otimes I) \\left\\vert00\\right\\rangle$\n",
    "$= \\left(\\begin{pmatrix}\n",
    "\\cos(\\pi/2) & -i\\sin(\\pi/2)\\\\\n",
    "-i\\sin(\\pi/2) & \\cos(\\pi/2)\\\\\n",
    "\\end{pmatrix}\\otimes\\begin{pmatrix}\n",
    "1 & 0\\\\\n",
    "0 & 1\\\\\n",
    "\\end{pmatrix}\\right)\\begin{pmatrix}\n",
    "1 & 0 & 0 & 0\\\\\n",
    "0 & 1 & 0 & 0\\\\\n",
    "0 & 0 & 0 & 1\\\\\n",
    "0 & 0 & 1 & 0\\\\\n",
    "\\end{pmatrix}\\left(\\frac{1}{\\sqrt{2}}\\begin{pmatrix}\n",
    "1 & 1\\\\\n",
    "1 & -1\\\\\n",
    "\\end{pmatrix}\\otimes\\begin{pmatrix}\n",
    "1 & 0\\\\\n",
    "0 & 1\\\\\n",
    "\\end{pmatrix}\\right) \\begin{pmatrix}\n",
    "1\\\\\n",
    "0\\\\\n",
    "0\\\\\n",
    "0\\\\\n",
    "\\end{pmatrix}$\n",
    "$= \\frac{1}{\\sqrt{2}}\\begin{pmatrix}\n",
    "0 & 0 & -i & 0\\\\\n",
    "0 & 0 & 0 & -i\\\\\n",
    "-i & 0 & 0 & 0\\\\\n",
    "0 & -i & 0 & 0\\\\\n",
    "\\end{pmatrix}\\begin{pmatrix}\n",
    "1 & 0 & 0 & 0\\\\\n",
    "0 & 1 & 0 & 0\\\\\n",
    "0 & 0 & 0 & 1\\\\\n",
    "0 & 0 & 1 & 0\\\\\n",
    "\\end{pmatrix}\\begin{pmatrix}\n",
    "1 & 0 & 1 & 0\\\\\n",
    "0 & 1 & 0 & 1\\\\\n",
    "1 & 0 & -1 & 0\\\\\n",
    "0 & 1 & 0 & -1\\\\\n",
    "\\end{pmatrix} \\begin{pmatrix}\n",
    "1\\\\\n",
    "0\\\\\n",
    "0\\\\\n",
    "0\\\\\n",
    "\\end{pmatrix}$\n",
    "$= \\frac{1}{\\sqrt{2}}\\begin{pmatrix}\n",
    "0 & 0 & -i & 0\\\\\n",
    "0 & 0 & 0 & -i\\\\\n",
    "-i & 0 & 0 & 0\\\\\n",
    "0 & -i & 0 & 0\\\\\n",
    "\\end{pmatrix}\\begin{pmatrix}\n",
    "1 & 0 & 0 & 0\\\\\n",
    "0 & 1 & 0 & 0\\\\\n",
    "0 & 0 & 0 & 1\\\\\n",
    "0 & 0 & 1 & 0\\\\\n",
    "\\end{pmatrix}\\begin{pmatrix}\n",
    "1\\\\\n",
    "0\\\\\n",
    "1\\\\\n",
    "0\\\\\n",
    "\\end{pmatrix}$\n",
    "$=\\frac{1}{\\sqrt{2}}\\begin{pmatrix}\n",
    "0 & 0 & -i & 0\\\\\n",
    "0 & 0 & 0 & -i\\\\\n",
    "-i & 0 & 0 & 0\\\\\n",
    "0 & -i & 0 & 0\\\\\n",
    "\\end{pmatrix}\\begin{pmatrix}\n",
    "1\\\\\n",
    "0\\\\\n",
    "0\\\\\n",
    "1\\\\\n",
    "\\end{pmatrix}$\n",
    "$=\\frac{1}{\\sqrt{2}}\\begin{pmatrix}\n",
    "0\\\\\n",
    "-i\\\\\n",
    "-i\\\\\n",
    "0\\\\\n",
    "\\end{pmatrix}$\n",
    "$=-\\frac{i}{\\sqrt{2}}\\begin{pmatrix}\n",
    "0\\\\\n",
    "1\\\\\n",
    "1\\\\\n",
    "0\\\\\n",
    "\\end{pmatrix}$\n",
    "\n",
    "So our state is $|\\psi\\rangle=\\frac{1}{\\sqrt{2}}(\\left\\vert01\\right\\rangle + \\left\\vert10\\right\\rangle) = \\frac{1}{\\sqrt{2}}\\begin{pmatrix}\n",
    "0\\\\\n",
    "1\\\\\n",
    "1\\\\\n",
    "0\\\\\n",
    "\\end{pmatrix}$ up to a global phase factor.\n",
    "\n",
    "We can see that this is an eigenvector as \n",
    "\n",
    "$H \\left\\vert\\psi\\right\\rangle = \\frac{1}{\\sqrt{2}} \\begin{pmatrix}\n",
    "1 & 0 & 0 & 0\\\\\n",
    "0 & 0 & -1 & 0\\\\\n",
    "0 & -1 & 0 & 0\\\\\n",
    "0 & 0 & 0 & 1\\\\\n",
    "\\end{pmatrix} \\begin{pmatrix}\n",
    "0\\\\\n",
    "1\\\\\n",
    "1\\\\\n",
    "0\\\\\n",
    "\\end{pmatrix}= \\frac{1}{\\sqrt{2}}\\begin{pmatrix}\n",
    "0\\\\\n",
    "-1\\\\\n",
    "-1\\\\\n",
    "0\\\\\n",
    "\\end{pmatrix} = - \\left\\vert\\psi\\right\\rangle$\n",
    "\n",
    "and its corresponding eigenvalue is hence indeed -1.\n",
    "\n",
    "To check that this is the minimum eigenvalue, we can find the eigenvalues by finding the roots of the characterstic polynomial:\n",
    "\n",
    "$p_H(\\lambda) = \\det(\\lambda I - H) = \\det\\left(\\begin{pmatrix}\n",
    "\\lambda - 1 & 0 & 0 & 0\\\\\n",
    "0 & \\lambda & -1 & 0\\\\\n",
    "0 & -1 & \\lambda & 0\\\\\n",
    "0 & 0 & 0 & \\lambda - 1\\\\\n",
    "\\end{pmatrix}\\right) = (\\lambda - 1)^2 \\det\\left(\\begin{pmatrix}\n",
    "\\lambda & -1\\\\\n",
    "-1 & \\lambda &\\\\\n",
    "\\end{pmatrix}\\right) = (\\lambda - 1)^2 (\\lambda^2 - 1) = (\\lambda - 1)^3 (\\lambda + 1)$\n",
    "\n",
    "So the only eigenvalues are $\\pm 1$, and so we have found the minimum eigenvalue."
   ]
  },
  {
   "cell_type": "markdown",
   "metadata": {},
   "source": [
    "If we wanted to make this code better, then we could decompose it into a wider range of two-qubit Pauli gates (e.g. XY, IZ etc.) so that it can work on a wider range of input matrices.\n",
    "\n",
    "Another thing that could help would be using a more flexible ansatz to allow us to explore more possible states. In doing so, we would probably need to use an optimizer like Stochastic Gradient Descent, as checking every possible state would be very time-inefficient."
   ]
  },
  {
   "cell_type": "code",
   "execution_count": null,
   "metadata": {},
   "outputs": [],
   "source": []
  }
 ],
 "metadata": {
  "kernelspec": {
   "display_name": "Python 3",
   "language": "python",
   "name": "python3"
  },
  "language_info": {
   "codemirror_mode": {
    "name": "ipython",
    "version": 3
   },
   "file_extension": ".py",
   "mimetype": "text/x-python",
   "name": "python",
   "nbconvert_exporter": "python",
   "pygments_lexer": "ipython3",
   "version": "3.8.5"
  }
 },
 "nbformat": 4,
 "nbformat_minor": 4
}
